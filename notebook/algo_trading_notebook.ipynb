{
 "cells": [
  {
   "cell_type": "code",
   "execution_count": 5,
   "metadata": {},
   "outputs": [],
   "source": [
    "import pandas as pd\n",
    "\n",
    "\n",
    "# load csv file in data pairs\n",
    "data = pd.read_csv('/Users/tobiastschuemperlin/Developer/Algorithmic_Trading/src/data/data pairs.csv', index_col=0, parse_dates=True)\n",
    "# rename column index to date\n",
    "data.index.name = 'date'\n",
    "\n"
   ]
  },
  {
   "cell_type": "code",
   "execution_count": null,
   "metadata": {},
   "outputs": [],
   "source": []
  }
 ],
 "metadata": {
  "kernelspec": {
   "display_name": "myenv",
   "language": "python",
   "name": "python3"
  },
  "language_info": {
   "codemirror_mode": {
    "name": "ipython",
    "version": 3
   },
   "file_extension": ".py",
   "mimetype": "text/x-python",
   "name": "python",
   "nbconvert_exporter": "python",
   "pygments_lexer": "ipython3",
   "version": "3.9.7"
  },
  "orig_nbformat": 4,
  "vscode": {
   "interpreter": {
    "hash": "0fa4c8d3485d03d99d983d49b5f09c7a388045191e6625a4f0c0a7ade3dc14fa"
   }
  }
 },
 "nbformat": 4,
 "nbformat_minor": 2
}
